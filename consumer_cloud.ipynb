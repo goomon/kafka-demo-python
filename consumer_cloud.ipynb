{
 "cells": [
  {
   "cell_type": "code",
   "execution_count": 29,
   "metadata": {
    "collapsed": true
   },
   "outputs": [],
   "source": [
    "import json\n",
    "import uuid\n",
    "from configparser import ConfigParser\n",
    "from confluent_kafka import Consumer"
   ]
  },
  {
   "cell_type": "markdown",
   "source": [
    "### Connection info\n",
    "\n",
    "* Confluent cloud connection info\n",
    "    * `sasl.username`\n",
    "    * `sasl.password`\n",
    "* Additional consumer options\n",
    "    * `group.id`: it is randomly generated because once a consumer fetch the data, it doesn't read already read data.\n",
    "    * `auto.offset.reset`: it determines for consumer where to read. The `earliest` means a consumer starts to read at the beginning of the partition."
   ],
   "metadata": {
    "collapsed": false
   }
  },
  {
   "cell_type": "code",
   "execution_count": 33,
   "outputs": [],
   "source": [
    "# Configuration loading\n",
    "config_parser = ConfigParser()\n",
    "config_parser.read(\"./config/client.ini\")\n",
    "props = dict(config_parser[\"connections\"])\n",
    "props[\"group.id\"] = str(uuid.uuid4())\n",
    "props[\"auto.offset.reset\"] = \"earliest\"\n",
    "\n",
    "consumer = Consumer(props)\n",
    "consumer.subscribe([\"topic3\"])\n",
    "try:\n",
    "    while True:\n",
    "        msg = consumer.poll(2.0)\n",
    "        if msg is not None and msg.error() is None:\n",
    "            msg = msg.value().decode('utf-8')\n",
    "            msg = json.loads(msg)\n",
    "            # print(msg[\"user_id\"])\n",
    "except KeyboardInterrupt:\n",
    "     pass\n",
    "finally:\n",
    "     consumer.close()"
   ],
   "metadata": {
    "collapsed": false
   }
  },
  {
   "cell_type": "code",
   "execution_count": null,
   "outputs": [],
   "source": [],
   "metadata": {
    "collapsed": false
   }
  }
 ],
 "metadata": {
  "kernelspec": {
   "display_name": "Python 3",
   "language": "python",
   "name": "python3"
  },
  "language_info": {
   "codemirror_mode": {
    "name": "ipython",
    "version": 2
   },
   "file_extension": ".py",
   "mimetype": "text/x-python",
   "name": "python",
   "nbconvert_exporter": "python",
   "pygments_lexer": "ipython2",
   "version": "2.7.6"
  }
 },
 "nbformat": 4,
 "nbformat_minor": 0
}
